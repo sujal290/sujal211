{
  "nbformat": 4,
  "nbformat_minor": 0,
  "metadata": {
    "colab": {
      "provenance": [],
      "authorship_tag": "ABX9TyOalZcMJH/URUUFrIw6Djvn",
      "include_colab_link": true
    },
    "kernelspec": {
      "name": "python3",
      "display_name": "Python 3"
    },
    "language_info": {
      "name": "python"
    }
  },
  "cells": [
    {
      "cell_type": "markdown",
      "metadata": {
        "id": "view-in-github",
        "colab_type": "text"
      },
      "source": [
        "<a href=\"https://colab.research.google.com/github/sujal290/sujal290/blob/main/sem_data.ipynb\" target=\"_parent\"><img src=\"https://colab.research.google.com/assets/colab-badge.svg\" alt=\"Open In Colab\"/></a>"
      ]
    },
    {
      "cell_type": "code",
      "source": [
        "from google.colab import files\n",
        "uploaded = files.upload()\n"
      ],
      "metadata": {
        "colab": {
          "base_uri": "https://localhost:8080/",
          "height": 74
        },
        "id": "wye1__zPCjbP",
        "outputId": "b868f5d1-ca50-401f-cfb3-ecf2c1a251dc"
      },
      "execution_count": 8,
      "outputs": [
        {
          "output_type": "display_data",
          "data": {
            "text/plain": [
              "<IPython.core.display.HTML object>"
            ],
            "text/html": [
              "\n",
              "     <input type=\"file\" id=\"files-853b2171-7e90-4d02-b45e-b5a37c7b0b18\" name=\"files[]\" multiple disabled\n",
              "        style=\"border:none\" />\n",
              "     <output id=\"result-853b2171-7e90-4d02-b45e-b5a37c7b0b18\">\n",
              "      Upload widget is only available when the cell has been executed in the\n",
              "      current browser session. Please rerun this cell to enable.\n",
              "      </output>\n",
              "      <script>// Copyright 2017 Google LLC\n",
              "//\n",
              "// Licensed under the Apache License, Version 2.0 (the \"License\");\n",
              "// you may not use this file except in compliance with the License.\n",
              "// You may obtain a copy of the License at\n",
              "//\n",
              "//      http://www.apache.org/licenses/LICENSE-2.0\n",
              "//\n",
              "// Unless required by applicable law or agreed to in writing, software\n",
              "// distributed under the License is distributed on an \"AS IS\" BASIS,\n",
              "// WITHOUT WARRANTIES OR CONDITIONS OF ANY KIND, either express or implied.\n",
              "// See the License for the specific language governing permissions and\n",
              "// limitations under the License.\n",
              "\n",
              "/**\n",
              " * @fileoverview Helpers for google.colab Python module.\n",
              " */\n",
              "(function(scope) {\n",
              "function span(text, styleAttributes = {}) {\n",
              "  const element = document.createElement('span');\n",
              "  element.textContent = text;\n",
              "  for (const key of Object.keys(styleAttributes)) {\n",
              "    element.style[key] = styleAttributes[key];\n",
              "  }\n",
              "  return element;\n",
              "}\n",
              "\n",
              "// Max number of bytes which will be uploaded at a time.\n",
              "const MAX_PAYLOAD_SIZE = 100 * 1024;\n",
              "\n",
              "function _uploadFiles(inputId, outputId) {\n",
              "  const steps = uploadFilesStep(inputId, outputId);\n",
              "  const outputElement = document.getElementById(outputId);\n",
              "  // Cache steps on the outputElement to make it available for the next call\n",
              "  // to uploadFilesContinue from Python.\n",
              "  outputElement.steps = steps;\n",
              "\n",
              "  return _uploadFilesContinue(outputId);\n",
              "}\n",
              "\n",
              "// This is roughly an async generator (not supported in the browser yet),\n",
              "// where there are multiple asynchronous steps and the Python side is going\n",
              "// to poll for completion of each step.\n",
              "// This uses a Promise to block the python side on completion of each step,\n",
              "// then passes the result of the previous step as the input to the next step.\n",
              "function _uploadFilesContinue(outputId) {\n",
              "  const outputElement = document.getElementById(outputId);\n",
              "  const steps = outputElement.steps;\n",
              "\n",
              "  const next = steps.next(outputElement.lastPromiseValue);\n",
              "  return Promise.resolve(next.value.promise).then((value) => {\n",
              "    // Cache the last promise value to make it available to the next\n",
              "    // step of the generator.\n",
              "    outputElement.lastPromiseValue = value;\n",
              "    return next.value.response;\n",
              "  });\n",
              "}\n",
              "\n",
              "/**\n",
              " * Generator function which is called between each async step of the upload\n",
              " * process.\n",
              " * @param {string} inputId Element ID of the input file picker element.\n",
              " * @param {string} outputId Element ID of the output display.\n",
              " * @return {!Iterable<!Object>} Iterable of next steps.\n",
              " */\n",
              "function* uploadFilesStep(inputId, outputId) {\n",
              "  const inputElement = document.getElementById(inputId);\n",
              "  inputElement.disabled = false;\n",
              "\n",
              "  const outputElement = document.getElementById(outputId);\n",
              "  outputElement.innerHTML = '';\n",
              "\n",
              "  const pickedPromise = new Promise((resolve) => {\n",
              "    inputElement.addEventListener('change', (e) => {\n",
              "      resolve(e.target.files);\n",
              "    });\n",
              "  });\n",
              "\n",
              "  const cancel = document.createElement('button');\n",
              "  inputElement.parentElement.appendChild(cancel);\n",
              "  cancel.textContent = 'Cancel upload';\n",
              "  const cancelPromise = new Promise((resolve) => {\n",
              "    cancel.onclick = () => {\n",
              "      resolve(null);\n",
              "    };\n",
              "  });\n",
              "\n",
              "  // Wait for the user to pick the files.\n",
              "  const files = yield {\n",
              "    promise: Promise.race([pickedPromise, cancelPromise]),\n",
              "    response: {\n",
              "      action: 'starting',\n",
              "    }\n",
              "  };\n",
              "\n",
              "  cancel.remove();\n",
              "\n",
              "  // Disable the input element since further picks are not allowed.\n",
              "  inputElement.disabled = true;\n",
              "\n",
              "  if (!files) {\n",
              "    return {\n",
              "      response: {\n",
              "        action: 'complete',\n",
              "      }\n",
              "    };\n",
              "  }\n",
              "\n",
              "  for (const file of files) {\n",
              "    const li = document.createElement('li');\n",
              "    li.append(span(file.name, {fontWeight: 'bold'}));\n",
              "    li.append(span(\n",
              "        `(${file.type || 'n/a'}) - ${file.size} bytes, ` +\n",
              "        `last modified: ${\n",
              "            file.lastModifiedDate ? file.lastModifiedDate.toLocaleDateString() :\n",
              "                                    'n/a'} - `));\n",
              "    const percent = span('0% done');\n",
              "    li.appendChild(percent);\n",
              "\n",
              "    outputElement.appendChild(li);\n",
              "\n",
              "    const fileDataPromise = new Promise((resolve) => {\n",
              "      const reader = new FileReader();\n",
              "      reader.onload = (e) => {\n",
              "        resolve(e.target.result);\n",
              "      };\n",
              "      reader.readAsArrayBuffer(file);\n",
              "    });\n",
              "    // Wait for the data to be ready.\n",
              "    let fileData = yield {\n",
              "      promise: fileDataPromise,\n",
              "      response: {\n",
              "        action: 'continue',\n",
              "      }\n",
              "    };\n",
              "\n",
              "    // Use a chunked sending to avoid message size limits. See b/62115660.\n",
              "    let position = 0;\n",
              "    do {\n",
              "      const length = Math.min(fileData.byteLength - position, MAX_PAYLOAD_SIZE);\n",
              "      const chunk = new Uint8Array(fileData, position, length);\n",
              "      position += length;\n",
              "\n",
              "      const base64 = btoa(String.fromCharCode.apply(null, chunk));\n",
              "      yield {\n",
              "        response: {\n",
              "          action: 'append',\n",
              "          file: file.name,\n",
              "          data: base64,\n",
              "        },\n",
              "      };\n",
              "\n",
              "      let percentDone = fileData.byteLength === 0 ?\n",
              "          100 :\n",
              "          Math.round((position / fileData.byteLength) * 100);\n",
              "      percent.textContent = `${percentDone}% done`;\n",
              "\n",
              "    } while (position < fileData.byteLength);\n",
              "  }\n",
              "\n",
              "  // All done.\n",
              "  yield {\n",
              "    response: {\n",
              "      action: 'complete',\n",
              "    }\n",
              "  };\n",
              "}\n",
              "\n",
              "scope.google = scope.google || {};\n",
              "scope.google.colab = scope.google.colab || {};\n",
              "scope.google.colab._files = {\n",
              "  _uploadFiles,\n",
              "  _uploadFilesContinue,\n",
              "};\n",
              "})(self);\n",
              "</script> "
            ]
          },
          "metadata": {}
        },
        {
          "output_type": "stream",
          "name": "stdout",
          "text": [
            "Saving 2026-20250620T014746Z-1-001.zip to 2026-20250620T014746Z-1-001.zip\n"
          ]
        }
      ]
    },
    {
      "cell_type": "code",
      "source": [
        "import zipfile\n",
        "import os\n",
        "\n",
        "# Unzip the uploaded ZIP\n",
        "zip_filename = next(iter(uploaded))  # gets uploaded filename\n",
        "with zipfile.ZipFile(zip_filename, 'r') as zip_ref:\n",
        "    zip_ref.extractall(\"results_data\")\n",
        "\n",
        "# Show structure\n",
        "for root, dirs, files in os.walk(\"results_data\"):\n",
        "    level = root.replace(\"results_data\", \"\").count(os.sep)\n",
        "    indent = \" \" * 2 * level\n",
        "    print(f\"{indent}{os.path.basename(root)}/\")\n",
        "    for f in files:\n",
        "        print(f\"{indent}  {f}\")\n"
      ],
      "metadata": {
        "colab": {
          "base_uri": "https://localhost:8080/"
        },
        "id": "5-34eUzBDUqz",
        "outputId": "3646aefb-3cb9-4867-ef7f-d4c9f1e80acc"
      },
      "execution_count": 10,
      "outputs": [
        {
          "output_type": "stream",
          "name": "stdout",
          "text": [
            "results_data/\n",
            "  2026/\n",
            "    sem4/\n",
            "      sem4 aiml.pdf\n",
            "    sem3/\n",
            "      sem3 it le.pdf\n",
            "      sem3 ece.pdf\n",
            "      sem3 cseai.pdf\n",
            "      sem3 mae le.pdf\n",
            "      sem3 mae.pdf\n",
            "      sem3 eceai.pdf\n",
            "      sem3 aiml.pdf\n",
            "      sem3 eceai le.pdf\n",
            "      sem3 cse.pdf\n",
            "      sem3 it .pdf\n",
            "    sem8/\n",
            "    sem2/\n",
            "      sem2 cse.pdf\n",
            "      sem2 ece.pdf\n",
            "      sem2 aiml .pdf\n",
            "      sem2 It .pdf\n",
            "      sem2 eceai.pdf\n",
            "      sem2 cse-ai.pdf\n",
            "    Sem1/\n",
            "      sem1 mae.pdf\n",
            "      sem1 cseai.pdf\n",
            "      sem1 aiml.pdf\n",
            "      sem 1 it.pdf\n",
            "      sem1 eceai.pdf\n",
            "      sem1 cse.pdf\n",
            "      sem1 ece.pdf\n",
            "    sem5/\n",
            "      sem5 eceai.pdf\n",
            "      sem5 cseai .pdf\n",
            "      sem5 mae.pdf\n",
            "      sem5 mae le.pdf\n",
            "      sem5 it le.pdf\n",
            "      sem5 ece.pdf\n",
            "      sem5 cse.pdf\n",
            "      sem5 aiml.pdf\n",
            "      sem5 it.pdf\n",
            "      sem5 eceai le.pdf\n",
            "    sem6/\n",
            "      sem6 aiml.pdf\n",
            "      sem6 it.pdf\n",
            "      sem6 mae le.pdf\n",
            "      sem6 cse.pdf\n",
            "      sem6 eceai.pdf\n",
            "      sem6 it le.pdf\n",
            "      sem6 ece.pdf\n",
            "      sem6 eceai le.pdf\n",
            "      sem6 mae.pdf\n",
            "      sem6 cse-ai .pdf\n",
            "    sem7/\n"
          ]
        }
      ]
    },
    {
      "cell_type": "code",
      "source": [
        "import os\n",
        "\n",
        "for root, dirs, files in os.walk(\"results_data\"):\n",
        "    for dir_name in dirs:\n",
        "        print(\"📁\", os.path.join(root, dir_name))\n"
      ],
      "metadata": {
        "colab": {
          "base_uri": "https://localhost:8080/"
        },
        "id": "z5UP0AOtEpPd",
        "outputId": "53ef423f-093a-470e-8eed-09ec7dd63b12"
      },
      "execution_count": 13,
      "outputs": [
        {
          "output_type": "stream",
          "name": "stdout",
          "text": [
            "📁 results_data/2026\n",
            "📁 results_data/2026/sem4\n",
            "📁 results_data/2026/sem3\n",
            "📁 results_data/2026/sem8\n",
            "📁 results_data/2026/sem2\n",
            "📁 results_data/2026/Sem1\n",
            "📁 results_data/2026/sem5\n",
            "📁 results_data/2026/sem6\n",
            "📁 results_data/2026/sem7\n"
          ]
        }
      ]
    },
    {
      "cell_type": "code",
      "source": [
        "import os\n",
        "\n",
        "sem6_files = os.listdir(\"results_data/2026/sem6\")\n",
        "for f in sem6_files:\n",
        "    print(\"📄\", repr(f))\n"
      ],
      "metadata": {
        "colab": {
          "base_uri": "https://localhost:8080/"
        },
        "id": "VZ6kgZoMExq3",
        "outputId": "11934d07-bd17-431e-cfb1-666e24bda4ff"
      },
      "execution_count": 14,
      "outputs": [
        {
          "output_type": "stream",
          "name": "stdout",
          "text": [
            "📄 'sem6 aiml.pdf'\n",
            "📄 'sem6 it.pdf'\n",
            "📄 'sem6 mae le.pdf'\n",
            "📄 'sem6 cse.pdf'\n",
            "📄 'sem6 eceai.pdf'\n",
            "📄 'sem6 it le.pdf'\n",
            "📄 'sem6 ece.pdf'\n",
            "📄 'sem6 eceai le.pdf'\n",
            "📄 'sem6 mae.pdf'\n",
            "📄 'sem6 cse-ai .pdf'\n"
          ]
        }
      ]
    },
    {
      "cell_type": "code",
      "source": [
        "import pdfplumber\n",
        "\n",
        "sample_pdf = \"results_data/2026/sem6/sem6 mae.pdf\"\n",
        "\n",
        "with pdfplumber.open(sample_pdf) as pdf:\n",
        "    for i, page in enumerate(pdf.pages, start=1):\n",
        "        print(f\"\\n--- Page {i} ---\")\n",
        "        tables = page.extract_tables()\n",
        "        if not tables:\n",
        "            print(\"⚠️ No tables found.\")\n",
        "            continue\n",
        "        for t_index, table in enumerate(tables):\n",
        "            print(f\"✅ Table {t_index + 1}\")\n",
        "            for r_index, row in enumerate(table[:5]):  # show first 5 rows\n",
        "                print(f\"Row {r_index}: {row}\")\n",
        "\n"
      ],
      "metadata": {
        "colab": {
          "base_uri": "https://localhost:8080/"
        },
        "id": "_uLjIIKtE8vs",
        "outputId": "ca05f9d8-b451-43c8-95e9-0eb35327447b"
      },
      "execution_count": 15,
      "outputs": [
        {
          "output_type": "stream",
          "name": "stdout",
          "text": [
            "\n",
            "--- Page 1 ---\n",
            "✅ Table 1\n",
            "Row 0: ['Sr.No.', 'Enrollment No', 'Name', 'SGPA', 'HMC 304', 'BMA 304', 'BMA 306', 'BMA 308', 'BMA 310', 'BMA 316', 'BMA 322', 'HMC 306', 'BMA 328']\n",
            "Row 1: ['1', '00101042022', 'AARUSHI JAIN', '8.45', 'A', 'B', 'B+', 'A', 'A', 'A', 'A', '', '']\n",
            "Row 2: ['2', '00201042022', 'AARUSHI JOHRI', '9.45', 'A+', 'A+', 'A', 'A+', 'A+', 'A', 'A', '', '']\n",
            "Row 3: ['3', '00301042022', 'AASHI GUPTA', '8.55', 'A+', 'C+', 'B+', 'A+', 'A+', 'A', 'A', '', '']\n",
            "Row 4: ['4', '00401042022', 'ADITI MISHRA', '7.27', 'A', 'D', 'B', 'B+', 'A+', 'B+', 'B+', '', '']\n",
            "\n",
            "--- Page 2 ---\n",
            "✅ Table 1\n",
            "Row 0: ['Sr.No.', 'Enrollment No', 'Name', 'SGPA', 'HMC 304', 'BMA 304', 'BMA 306', 'BMA 308', 'BMA 310', 'BMA 316', 'BMA 322', 'HMC 306', 'BMA 328']\n",
            "Row 1: ['13', '01301042022', 'ANKITA YADAV', '8.50', 'A+', 'B', 'B+', 'A+', 'A', 'A', '', '', 'B+']\n",
            "Row 2: ['14', '01401042022', 'ANSHIKA DURGAPAL', '4.55', 'B', 'F', 'D', 'D', 'A+', 'B', '', '', 'C']\n",
            "Row 3: ['15', '01501042022', 'ANUSHA MAHAJAN', '9.41', 'A+', 'A', 'A', 'A+', 'A', 'A+', 'A', '', '']\n",
            "Row 4: ['16', '01601042022', 'ARIN KHAN', '8.23', 'A+', 'C', 'B', 'A', 'A+', 'A+', '', '', 'A']\n",
            "\n",
            "--- Page 3 ---\n",
            "✅ Table 1\n",
            "Row 0: ['Sr.No.', 'Enrollment No', 'Name', 'SGPA', 'HMC 304', 'BMA 304', 'BMA 306', 'BMA 308', 'BMA 310', 'BMA 316', 'BMA 322', 'HMC 306', 'BMA 328']\n",
            "Row 1: ['25', '02501042022', 'DRISHTI KIRAR', '5.77', '', 'F', 'B', 'B', 'A+', 'B+', '', 'C+', 'C+']\n",
            "Row 2: ['26', '02601042022', 'GAURI AGRAWAL', '9.45', 'A+', 'A', 'A', 'A+', 'A+', 'A+', 'A', '', '']\n",
            "Row 3: ['27', '02701042022', 'HAFSA MASOOD', '8.05', 'A+', 'B+', 'C', 'A', 'A+', 'A', 'B+', '', '']\n",
            "Row 4: ['28', '02801042022', 'HEMLATA SHARMA', '8.00', 'A', 'B', 'B', 'B+', 'A+', 'A', 'B+', '', '']\n",
            "\n",
            "--- Page 4 ---\n",
            "✅ Table 1\n",
            "Row 0: ['Sr.No.', 'Enrollment No', 'Name', 'SGPA', 'HMC 304', 'BMA 304', 'BMA 306', 'BMA 308', 'BMA 310', 'BMA 316', 'BMA 322', 'HMC 306', 'BMA 328']\n",
            "Row 1: ['37', '03801042022', 'KASHISH JAIN', '9.09', 'A+', 'B+', 'A', 'A', 'A', 'A', '', '', 'A+']\n",
            "Row 2: ['38', '03901042022', 'KRISTY DHOUNDIYAL', '8.91', 'A+', 'B+', 'A', 'A', 'A', 'A', '', '', 'A']\n",
            "Row 3: ['39', '04001042022', 'KRITI PAL', '7.50', 'A+', 'C+', 'C', 'B+', 'A', 'A', '', '', 'B+']\n",
            "Row 4: ['40', '04101042022', 'LAIBA ANSARI', '8.73', 'A+', 'B+', 'B+', 'A', 'A', 'B+', '', '', 'A+']\n",
            "\n",
            "--- Page 5 ---\n",
            "✅ Table 1\n",
            "Row 0: ['Sr.No.', 'Enrollment No', 'Name', 'SGPA', 'HMC 304', 'BMA 304', 'BMA 306', 'BMA 308', 'BMA 310', 'BMA 316', 'BMA 322', 'HMC 306', 'BMA 328']\n",
            "Row 1: ['49', '05001042022', 'POOJA', '7.27', 'A', 'C', 'C+', 'B', 'A', 'A', 'B+', '', '']\n",
            "Row 2: ['50', '05101042022', 'PRAGYA SINGH', '8.68', 'A+', 'B', 'B+', 'A', 'B+', 'A+', '', '', 'A']\n",
            "Row 3: ['51', '05201042022', 'PRASHANSA JAISWAL', '7.18', 'A', 'C', 'B', 'B+', 'B+', 'B+', 'B', '', '']\n",
            "Row 4: ['52', '05301042022', 'PRIYA GUPTA', '9.68', 'A+', 'A+', 'A', 'A', 'A+', 'A+', '', '', 'A+']\n",
            "\n",
            "--- Page 6 ---\n",
            "✅ Table 1\n",
            "Row 0: ['Sr.No.', 'Enrollment No', 'Name', 'SGPA', 'HMC 304', 'BMA 304', 'BMA 306', 'BMA 308', 'BMA 310', 'BMA 316', 'BMA 322', 'HMC 306', 'BMA 328']\n",
            "Row 1: ['61', '06401042022', 'SHEETAL', '8.95', 'A+', 'B+', 'B+', 'A', 'A+', 'A+', 'A', '', '']\n",
            "Row 2: ['62', '06501042022', 'SHIKHA PARBAT', '9.23', 'A+', 'B+', 'A', 'A+', 'A', 'A+', 'A', '', '']\n",
            "Row 3: ['63', '06601042022', 'SHIVANGI TANWAR', '4.18', '', 'F', 'D', 'B+', 'B+', 'F', 'B', 'B+', '']\n",
            "Row 4: ['64', '06701042022', 'SHRADDHA SHARMA', '8.73', 'A+', 'B+', 'B+', 'A', 'A', 'A', '', '', 'A']\n",
            "\n",
            "--- Page 7 ---\n",
            "✅ Table 1\n",
            "Row 0: ['Sr.No.', 'Enrollment No', 'Name', 'SGPA', 'HMC 304', 'BMA 304', 'BMA 306', 'BMA 308', 'BMA 310', 'BMA 316', 'BMA 322', 'HMC 306', 'BMA 328']\n",
            "Row 1: ['73', '07701042022', 'SRISHTI SINGHLA', '9.64', '', 'A', 'A', 'A+', 'A+', 'A+', 'A+', 'A+', '']\n",
            "Row 2: ['74', '07801042022', 'STUTI NARAIN', '10.00', '', 'A+', 'A+', 'A+', 'A+', 'A+', 'A+', 'A+', '']\n",
            "Row 3: ['75', '07901042022', 'SUPRIYA KUMARI', '8.23', 'A', 'B+', 'B', 'A', 'B+', 'A', '', '', 'B+']\n",
            "Row 4: ['76', '08001042022', 'SURBHI', '8.73', '', 'B+', 'B+', 'A+', 'B+', 'A+', '', 'A', 'B+']\n",
            "\n",
            "--- Page 8 ---\n",
            "✅ Table 1\n",
            "Row 0: ['Sr.No.', 'Enrollment No', 'Name', 'SGPA', 'HMC 304', 'BMA 304', 'BMA 306', 'BMA 308', 'BMA 310', 'BMA 316', 'BMA 322', 'HMC 306', 'BMA 328']\n",
            "Row 1: ['85', '09001042022', 'URJA KOHLI', '9.05', 'A+', 'B+', 'A', 'A+', 'A', 'A', '', '', 'A']\n",
            "Row 2: ['86', '09101042022', 'VAISHNAVI DUBEY', '7.77', 'A+', 'B', 'C', 'A+', 'A', 'B', '', '', 'A']\n",
            "Row 3: ['87', '09201042022', 'VAISHNAVI PILLAI', '7.82', '', 'B', 'C', 'A', 'A', 'A', 'A', 'B+', '']\n",
            "Row 4: ['88', '09301042022', 'VAISHNAVI RUKHAIYAR', '9.45', '', 'A+', 'B+', 'A+', 'A+', 'A', '', 'A+', 'A+']\n"
          ]
        }
      ]
    },
    {
      "cell_type": "code",
      "source": [
        "!pip install svgwrite openpyxl pandas"
      ],
      "metadata": {
        "colab": {
          "base_uri": "https://localhost:8080/"
        },
        "id": "qruIV9T_c2DX",
        "outputId": "c9e196d2-e083-46a8-e25a-25b4868ab6a3"
      },
      "execution_count": 20,
      "outputs": [
        {
          "output_type": "stream",
          "name": "stdout",
          "text": [
            "Collecting svgwrite\n",
            "  Downloading svgwrite-1.4.3-py3-none-any.whl.metadata (8.8 kB)\n",
            "Requirement already satisfied: openpyxl in /usr/local/lib/python3.11/dist-packages (3.1.5)\n",
            "Requirement already satisfied: pandas in /usr/local/lib/python3.11/dist-packages (2.2.2)\n",
            "Requirement already satisfied: et-xmlfile in /usr/local/lib/python3.11/dist-packages (from openpyxl) (2.0.0)\n",
            "Requirement already satisfied: numpy>=1.23.2 in /usr/local/lib/python3.11/dist-packages (from pandas) (2.0.2)\n",
            "Requirement already satisfied: python-dateutil>=2.8.2 in /usr/local/lib/python3.11/dist-packages (from pandas) (2.9.0.post0)\n",
            "Requirement already satisfied: pytz>=2020.1 in /usr/local/lib/python3.11/dist-packages (from pandas) (2025.2)\n",
            "Requirement already satisfied: tzdata>=2022.7 in /usr/local/lib/python3.11/dist-packages (from pandas) (2025.2)\n",
            "Requirement already satisfied: six>=1.5 in /usr/local/lib/python3.11/dist-packages (from python-dateutil>=2.8.2->pandas) (1.17.0)\n",
            "Downloading svgwrite-1.4.3-py3-none-any.whl (67 kB)\n",
            "\u001b[?25l   \u001b[90m━━━━━━━━━━━━━━━━━━━━━━━━━━━━━━━━━━━━━━━━\u001b[0m \u001b[32m0.0/67.1 kB\u001b[0m \u001b[31m?\u001b[0m eta \u001b[36m-:--:--\u001b[0m\r\u001b[2K   \u001b[90m━━━━━━━━━━━━━━━━━━━━━━━━━━━━━━━━━━━━━━━━\u001b[0m \u001b[32m67.1/67.1 kB\u001b[0m \u001b[31m3.8 MB/s\u001b[0m eta \u001b[36m0:00:00\u001b[0m\n",
            "\u001b[?25hInstalling collected packages: svgwrite\n",
            "Successfully installed svgwrite-1.4.3\n"
          ]
        }
      ]
    },
    {
      "cell_type": "code",
      "source": [
        "import pdfplumber\n",
        "import pandas as pd\n",
        "import svgwrite\n",
        "import os\n",
        "\n",
        "# Source file\n",
        "pdf_path = \"results_data/2026/sem6/sem6 mae.pdf\"\n",
        "excel_output = \"sem6_mae_table.xlsx\"\n",
        "svg_output = \"sem6_mae_table.svg\"\n",
        "\n",
        "# Extract first table from first page\n",
        "rows = []\n",
        "with pdfplumber.open(pdf_path) as pdf:\n",
        "    for page in pdf.pages:\n",
        "        tables = page.extract_tables()\n",
        "        if tables:\n",
        "            rows = tables[0]\n",
        "            break\n",
        "\n",
        "if not rows:\n",
        "    print(\"⚠️ No tables found in the PDF.\")\n",
        "else:\n",
        "    # ✅ Export to Excel\n",
        "    df = pd.DataFrame(rows[1:], columns=rows[0])\n",
        "    df.to_excel(excel_output, index=False)\n",
        "    print(f\"📁 Excel saved to: {excel_output}\")\n",
        "\n",
        "    # ✅ Generate SVG Table (first 10 rows max for display)\n",
        "    dwg = svgwrite.Drawing(svg_output, size=(\"1000px\", f\"{30 * (len(rows)+1)}px\"))\n",
        "    font_size = 14\n",
        "    cell_width = 120\n",
        "    cell_height = 30\n",
        "\n",
        "    for r_idx, row in enumerate(rows[:11]):  # first 10 data rows + header\n",
        "        for c_idx, cell in enumerate(row):\n",
        "            x = c_idx * cell_width\n",
        "            y = r_idx * cell_height\n",
        "            dwg.add(dwg.rect(insert=(x, y), size=(cell_width, cell_height),\n",
        "                             stroke='black', fill='white'))\n",
        "            dwg.add(dwg.text(str(cell), insert=(x+5, y+20),\n",
        "                             font_size=font_size, fill='black'))\n",
        "\n",
        "    dwg.save()\n",
        "    print(f\"🖼️ SVG saved to: {svg_output}\")\n"
      ],
      "metadata": {
        "colab": {
          "base_uri": "https://localhost:8080/"
        },
        "id": "xy1AeaI4c2tu",
        "outputId": "6e84c3d7-c3e6-4042-f780-875858e9f56f"
      },
      "execution_count": 21,
      "outputs": [
        {
          "output_type": "stream",
          "name": "stdout",
          "text": [
            "📁 Excel saved to: sem6_mae_table.xlsx\n",
            "🖼️ SVG saved to: sem6_mae_table.svg\n"
          ]
        }
      ]
    },
    {
      "cell_type": "code",
      "source": [
        "!pip install pdfplumber pandas openpyxl svgwrite\n"
      ],
      "metadata": {
        "colab": {
          "base_uri": "https://localhost:8080/"
        },
        "id": "OOzWmQpwdAuK",
        "outputId": "29c497b6-39d8-4e93-a5a7-d096f10c10af"
      },
      "execution_count": 22,
      "outputs": [
        {
          "output_type": "stream",
          "name": "stdout",
          "text": [
            "Requirement already satisfied: pdfplumber in /usr/local/lib/python3.11/dist-packages (0.11.7)\n",
            "Requirement already satisfied: pandas in /usr/local/lib/python3.11/dist-packages (2.2.2)\n",
            "Requirement already satisfied: openpyxl in /usr/local/lib/python3.11/dist-packages (3.1.5)\n",
            "Requirement already satisfied: svgwrite in /usr/local/lib/python3.11/dist-packages (1.4.3)\n",
            "Requirement already satisfied: pdfminer.six==20250506 in /usr/local/lib/python3.11/dist-packages (from pdfplumber) (20250506)\n",
            "Requirement already satisfied: Pillow>=9.1 in /usr/local/lib/python3.11/dist-packages (from pdfplumber) (11.2.1)\n",
            "Requirement already satisfied: pypdfium2>=4.18.0 in /usr/local/lib/python3.11/dist-packages (from pdfplumber) (4.30.1)\n",
            "Requirement already satisfied: charset-normalizer>=2.0.0 in /usr/local/lib/python3.11/dist-packages (from pdfminer.six==20250506->pdfplumber) (3.4.2)\n",
            "Requirement already satisfied: cryptography>=36.0.0 in /usr/local/lib/python3.11/dist-packages (from pdfminer.six==20250506->pdfplumber) (43.0.3)\n",
            "Requirement already satisfied: numpy>=1.23.2 in /usr/local/lib/python3.11/dist-packages (from pandas) (2.0.2)\n",
            "Requirement already satisfied: python-dateutil>=2.8.2 in /usr/local/lib/python3.11/dist-packages (from pandas) (2.9.0.post0)\n",
            "Requirement already satisfied: pytz>=2020.1 in /usr/local/lib/python3.11/dist-packages (from pandas) (2025.2)\n",
            "Requirement already satisfied: tzdata>=2022.7 in /usr/local/lib/python3.11/dist-packages (from pandas) (2025.2)\n",
            "Requirement already satisfied: et-xmlfile in /usr/local/lib/python3.11/dist-packages (from openpyxl) (2.0.0)\n",
            "Requirement already satisfied: six>=1.5 in /usr/local/lib/python3.11/dist-packages (from python-dateutil>=2.8.2->pandas) (1.17.0)\n",
            "Requirement already satisfied: cffi>=1.12 in /usr/local/lib/python3.11/dist-packages (from cryptography>=36.0.0->pdfminer.six==20250506->pdfplumber) (1.17.1)\n",
            "Requirement already satisfied: pycparser in /usr/local/lib/python3.11/dist-packages (from cffi>=1.12->cryptography>=36.0.0->pdfminer.six==20250506->pdfplumber) (2.22)\n"
          ]
        }
      ]
    },
    {
      "cell_type": "code",
      "source": [
        "import pdfplumber\n",
        "import pandas as pd\n",
        "import svgwrite\n",
        "\n",
        "# File paths\n",
        "pdf_path = \"results_data/2026/sem6/sem6 mae.pdf\"\n",
        "excel_output = \"sem6_mae_full.xlsx\"\n",
        "svg_output = \"sem6_mae_full.svg\"\n",
        "\n",
        "all_rows = []\n",
        "\n",
        "# ✅ Extract all tables from all pages\n",
        "with pdfplumber.open(pdf_path) as pdf:\n",
        "    for page_num, page in enumerate(pdf.pages, start=1):\n",
        "        tables = page.extract_tables()\n",
        "        for table_index, table in enumerate(tables):\n",
        "            if table and len(table) > 1:\n",
        "                if not all_rows:\n",
        "                    all_rows.extend(table)  # includes header from first table\n",
        "                else:\n",
        "                    all_rows.extend(table[1:])  # skip repeated header\n",
        "            else:\n",
        "                print(f\"⚠️ Empty or invalid table on page {page_num}, table {table_index}\")\n",
        "\n",
        "# ✅ Save to Excel\n",
        "if all_rows:\n",
        "    df = pd.DataFrame(all_rows[1:], columns=all_rows[0])\n",
        "    df.to_excel(excel_output, index=False)\n",
        "    print(f\"📊 Excel saved as: {excel_output}\")\n",
        "else:\n",
        "    print(\"❌ No valid rows extracted.\")\n",
        "\n",
        "# ✅ Save to SVG (limit rows if needed to avoid rendering issues)\n",
        "if all_rows:\n",
        "    font_size = 14\n",
        "    cell_width = 110\n",
        "    cell_height = 30\n",
        "    max_rows = min(100, len(all_rows))  # limit for performance\n",
        "\n",
        "    dwg = svgwrite.Drawing(svg_output, size=(f\"{cell_width * len(all_rows[0])}px\", f\"{cell_height * max_rows}px\"))\n",
        "\n",
        "    for r_idx, row in enumerate(all_rows[:max_rows]):\n",
        "        for c_idx, cell in enumerate(row):\n",
        "            x = c_idx * cell_width\n",
        "            y = r_idx * cell_height\n",
        "            dwg.add(dwg.rect(insert=(x, y), size=(cell_width, cell_height), stroke='black', fill='white'))\n",
        "            dwg.add(dwg.text(str(cell), insert=(x+5, y+20), font_size=font_size, fill='black'))\n",
        "\n",
        "    dwg.save()\n",
        "    print(f\"🖼️ SVG saved as: {svg_output}\")\n"
      ],
      "metadata": {
        "colab": {
          "base_uri": "https://localhost:8080/"
        },
        "id": "nCdTtq_Vdfi1",
        "outputId": "042331ce-5dec-4be8-c824-3a14c6cf5352"
      },
      "execution_count": 23,
      "outputs": [
        {
          "output_type": "stream",
          "name": "stdout",
          "text": [
            "📊 Excel saved as: sem6_mae_full.xlsx\n",
            "🖼️ SVG saved as: sem6_mae_full.svg\n"
          ]
        }
      ]
    },
    {
      "cell_type": "code",
      "source": [
        "import pdfplumber\n",
        "import pandas as pd\n",
        "import svgwrite\n",
        "import os\n",
        "\n",
        "# Folder path\n",
        "sem6_folder = \"results_data/2026/sem6\"\n",
        "output_dir = \"sem6_outputs\"\n",
        "os.makedirs(output_dir, exist_ok=True)\n",
        "\n",
        "def process_pdf_to_excel_svg(pdf_path, base_name):\n",
        "    all_rows = []\n",
        "\n",
        "    # Extract tables from all pages\n",
        "    with pdfplumber.open(pdf_path) as pdf:\n",
        "        for page in pdf.pages:\n",
        "            tables = page.extract_tables()\n",
        "            for table in tables:\n",
        "                if table and len(table) > 1:\n",
        "                    if not all_rows:\n",
        "                        all_rows.extend(table)  # keep header\n",
        "                    else:\n",
        "                        all_rows.extend(table[1:])  # skip repeated headers\n",
        "\n",
        "    if not all_rows:\n",
        "        print(f\"❌ No data in {base_name}\")\n",
        "        return\n",
        "\n",
        "    # ✅ Save Excel\n",
        "    df = pd.DataFrame(all_rows[1:], columns=all_rows[0])\n",
        "    excel_path = os.path.join(output_dir, f\"{base_name}.xlsx\")\n",
        "    df.to_excel(excel_path, index=False)\n",
        "    print(f\"📊 Saved: {excel_path}\")\n",
        "\n",
        "    # ✅ Save SVG (first 100 rows for readability)\n",
        "    max_rows = min(100, len(all_rows))\n",
        "    font_size = 14\n",
        "    cell_width = 110\n",
        "    cell_height = 30\n",
        "    svg_width = cell_width * len(all_rows[0])\n",
        "    svg_height = cell_height * max_rows\n",
        "\n",
        "    svg_path = os.path.join(output_dir, f\"{base_name}.svg\")\n",
        "    dwg = svgwrite.Drawing(svg_path, size=(f\"{svg_width}px\", f\"{svg_height}px\"))\n",
        "\n",
        "    for r_idx, row in enumerate(all_rows[:max_rows]):\n",
        "        for c_idx, cell in enumerate(row):\n",
        "            x = c_idx * cell_width\n",
        "            y = r_idx * cell_height\n",
        "            dwg.add(dwg.rect(insert=(x, y), size=(cell_width, cell_height), stroke='black', fill='white'))\n",
        "            dwg.add(dwg.text(str(cell), insert=(x + 5, y + 20), font_size=font_size, fill='black'))\n",
        "\n",
        "    dwg.save()\n",
        "    print(f\"🖼️ Saved: {svg_path}\")\n",
        "\n",
        "\n",
        "# ✅ Process all PDFs in sem6\n",
        "for file in os.listdir(sem6_folder):\n",
        "    if file.endswith(\".pdf\"):\n",
        "        file_path = os.path.join(sem6_folder, file)\n",
        "        base_name = os.path.splitext(file)[0].lower().replace(\" \", \"_\")\n",
        "        print(f\"\\n🔄 Processing: {file}\")\n",
        "        process_pdf_to_excel_svg(file_path, base_name)\n"
      ],
      "metadata": {
        "colab": {
          "base_uri": "https://localhost:8080/"
        },
        "id": "SZp82jPvdidh",
        "outputId": "25f85a6f-f412-44e8-b3b8-ce824cc45ecb"
      },
      "execution_count": 24,
      "outputs": [
        {
          "output_type": "stream",
          "name": "stdout",
          "text": [
            "\n",
            "🔄 Processing: sem6 aiml.pdf\n",
            "📊 Saved: sem6_outputs/sem6_aiml.xlsx\n",
            "🖼️ Saved: sem6_outputs/sem6_aiml.svg\n",
            "\n",
            "🔄 Processing: sem6 it.pdf\n",
            "📊 Saved: sem6_outputs/sem6_it.xlsx\n",
            "🖼️ Saved: sem6_outputs/sem6_it.svg\n",
            "\n",
            "🔄 Processing: sem6 mae le.pdf\n",
            "📊 Saved: sem6_outputs/sem6_mae_le.xlsx\n",
            "🖼️ Saved: sem6_outputs/sem6_mae_le.svg\n",
            "\n",
            "🔄 Processing: sem6 cse.pdf\n",
            "📊 Saved: sem6_outputs/sem6_cse.xlsx\n",
            "🖼️ Saved: sem6_outputs/sem6_cse.svg\n",
            "\n",
            "🔄 Processing: sem6 eceai.pdf\n",
            "📊 Saved: sem6_outputs/sem6_eceai.xlsx\n",
            "🖼️ Saved: sem6_outputs/sem6_eceai.svg\n",
            "\n",
            "🔄 Processing: sem6 it le.pdf\n",
            "📊 Saved: sem6_outputs/sem6_it_le.xlsx\n",
            "🖼️ Saved: sem6_outputs/sem6_it_le.svg\n",
            "\n",
            "🔄 Processing: sem6 ece.pdf\n",
            "📊 Saved: sem6_outputs/sem6_ece.xlsx\n",
            "🖼️ Saved: sem6_outputs/sem6_ece.svg\n",
            "\n",
            "🔄 Processing: sem6 eceai le.pdf\n",
            "📊 Saved: sem6_outputs/sem6_eceai_le.xlsx\n",
            "🖼️ Saved: sem6_outputs/sem6_eceai_le.svg\n",
            "\n",
            "🔄 Processing: sem6 mae.pdf\n",
            "📊 Saved: sem6_outputs/sem6_mae.xlsx\n",
            "🖼️ Saved: sem6_outputs/sem6_mae.svg\n",
            "\n",
            "🔄 Processing: sem6 cse-ai .pdf\n",
            "📊 Saved: sem6_outputs/sem6_cse-ai_.xlsx\n",
            "🖼️ Saved: sem6_outputs/sem6_cse-ai_.svg\n"
          ]
        }
      ]
    },
    {
      "cell_type": "code",
      "source": [
        "import pandas as pd\n",
        "import os\n",
        "\n",
        "output_dir = \"sem6_outputs\"\n",
        "merged_excel_path = os.path.join(output_dir, \"sem6_all_branches.xlsx\")\n",
        "\n",
        "excel_files = [f for f in os.listdir(output_dir) if f.endswith(\".xlsx\") and \"all_branches\" not in f]\n",
        "merged_df = pd.DataFrame()\n",
        "\n",
        "for f in excel_files:\n",
        "    df = pd.read_excel(os.path.join(output_dir, f))\n",
        "    df[\"Branch\"] = f.replace(\"sem6_\", \"\").replace(\".xlsx\", \"\").upper()  # Add branch info\n",
        "    merged_df = pd.concat([merged_df, df], ignore_index=True)\n",
        "\n",
        "merged_df.to_excel(merged_excel_path, index=False)\n",
        "print(f\"✅ Merged Excel saved to: {merged_excel_path}\")\n"
      ],
      "metadata": {
        "colab": {
          "base_uri": "https://localhost:8080/"
        },
        "id": "SL-FO1kVhajY",
        "outputId": "4cdef398-dc3e-4ae8-eefe-2c98782b5416"
      },
      "execution_count": 25,
      "outputs": [
        {
          "output_type": "stream",
          "name": "stdout",
          "text": [
            "✅ Merged Excel saved to: sem6_outputs/sem6_all_branches.xlsx\n"
          ]
        }
      ]
    },
    {
      "cell_type": "code",
      "source": [
        "import os\n",
        "\n",
        "output_dir = \"sem6_outputs\"\n",
        "svg_files = [f for f in os.listdir(output_dir) if f.endswith(\".svg\") and \"all_branches\" not in f]\n",
        "\n",
        "svg_blocks = []\n",
        "y_offset = 0\n",
        "combined_height = 0\n",
        "combined_width = 1000  # set based on your SVG sizes\n",
        "\n",
        "for svg_file in svg_files:\n",
        "    with open(os.path.join(output_dir, svg_file), \"r\") as f:\n",
        "        content = f.read()\n",
        "\n",
        "    # Extract inner SVG <svg ...>...</svg> content\n",
        "    inner_start = content.find(\">\", content.find(\"<svg\")) + 1\n",
        "    inner_end = content.rfind(\"</svg>\")\n",
        "    inner_svg = content[inner_start:inner_end]\n",
        "\n",
        "    # Wrap with a translated group\n",
        "    block = f'<g transform=\"translate(0, {y_offset})\">\\n{inner_svg}\\n</g>'\n",
        "    svg_blocks.append(block)\n",
        "\n",
        "    # Estimate height for next shift\n",
        "    height_line = [line for line in content.splitlines() if \"height=\" in line]\n",
        "    if height_line:\n",
        "        try:\n",
        "            height_str = height_line[0].split(\"height=\")[1].split()[0].replace('\"','').replace('px','')\n",
        "            height = int(float(height_str))\n",
        "            y_offset += height\n",
        "        except:\n",
        "            y_offset += 800  # fallback height\n",
        "    else:\n",
        "        y_offset += 800\n",
        "\n",
        "# Final SVG document\n",
        "final_svg = f\"\"\"<svg xmlns=\"http://www.w3.org/2000/svg\" width=\"{combined_width}px\" height=\"{y_offset}px\">\n",
        "{''.join(svg_blocks)}\n",
        "</svg>\n",
        "\"\"\"\n",
        "\n",
        "# Save it\n",
        "final_svg_path = os.path.join(output_dir, \"sem6_all_branches.svg\")\n",
        "with open(final_svg_path, \"w\") as f:\n",
        "    f.write(final_svg)\n",
        "\n",
        "print(f\"✅ Merged SVG saved to: {final_svg_path}\")\n"
      ],
      "metadata": {
        "colab": {
          "base_uri": "https://localhost:8080/"
        },
        "id": "CP2CcvNzi-k1",
        "outputId": "09dd47e3-be97-4b5b-b6c6-77890fde54ec"
      },
      "execution_count": 28,
      "outputs": [
        {
          "output_type": "stream",
          "name": "stdout",
          "text": [
            "✅ Merged SVG saved to: sem6_outputs/sem6_all_branches.svg\n"
          ]
        }
      ]
    },
    {
      "cell_type": "code",
      "source": [
        "import os\n",
        "import pdfplumber\n",
        "import json\n",
        "import pandas as pd\n",
        "from collections import defaultdict\n",
        "\n",
        "input_root = \"results_data/2026\"\n",
        "output_root = \"all_sem_outputs\"\n",
        "os.makedirs(output_root, exist_ok=True)\n",
        "\n",
        "def extract_sgpa_from_pdf(file_path, sem_key, branch):\n",
        "    records = []\n",
        "    try:\n",
        "        with pdfplumber.open(file_path) as pdf:\n",
        "            for page in pdf.pages:\n",
        "                tables = page.extract_tables()\n",
        "                for table in tables:\n",
        "                    for row in table:\n",
        "                        if not row or row[0] == \"Sr.No.\" or len(row) < 4:\n",
        "                            continue\n",
        "                        roll = row[1]\n",
        "                        name = row[2]\n",
        "                        sgpa = row[3]\n",
        "                        if roll and name and sgpa and sgpa.replace('.', '', 1).isdigit():\n",
        "                            records.append({\n",
        "                                \"roll\": roll.strip(),\n",
        "                                \"name\": name.strip(),\n",
        "                                \"sgpa\": float(sgpa.strip()),\n",
        "                                \"semester\": sem_key,\n",
        "                                \"branch\": branch\n",
        "                            })\n",
        "    except Exception as e:\n",
        "        print(f\"❌ Failed to extract from {file_path}: {e}\")\n",
        "    return records\n"
      ],
      "metadata": {
        "id": "trD_UH_6jHo6"
      },
      "execution_count": 29,
      "outputs": []
    },
    {
      "cell_type": "code",
      "source": [
        "all_data = defaultdict(lambda: {\"name\": \"\", \"semGPA\": {}})\n",
        "\n",
        "for sem_folder in sorted(os.listdir(input_root)):\n",
        "    sem_path = os.path.join(input_root, sem_folder)\n",
        "    if not os.path.isdir(sem_path): continue\n",
        "\n",
        "    sem_key = sem_folder.lower().replace(\"sem\", \"\").strip()\n",
        "    sem_records = []\n",
        "\n",
        "    for file in os.listdir(sem_path):\n",
        "        if not file.endswith(\".pdf\"): continue\n",
        "\n",
        "        branch = file.replace(\".pdf\", \"\").replace(\"sem\" + sem_key, \"\").strip().replace(\"-\", \"\").replace(\"  \", \" \").replace(\" \", \"_\").lower()\n",
        "        file_path = os.path.join(sem_path, file)\n",
        "\n",
        "        print(f\"📄 Processing: {file_path}\")\n",
        "        records = extract_sgpa_from_pdf(file_path, sem_key, branch)\n",
        "        sem_records.extend(records)\n",
        "\n",
        "        # update main structure\n",
        "        for rec in records:\n",
        "            roll = rec[\"roll\"]\n",
        "            all_data[roll][\"name\"] = rec[\"name\"]\n",
        "            all_data[roll][\"semGPA\"][sem_key] = rec[\"sgpa\"]\n",
        "\n",
        "    # Save Excel for this semester\n",
        "    df = pd.DataFrame(sem_records)\n",
        "    sem_excel_path = os.path.join(output_root, f\"sem{sem_key}_all_branches.xlsx\")\n",
        "    df.to_excel(sem_excel_path, index=False)\n",
        "    print(f\"✅ Saved Excel: {sem_excel_path}\")\n"
      ],
      "metadata": {
        "colab": {
          "base_uri": "https://localhost:8080/"
        },
        "id": "30dtQG3-jf_1",
        "outputId": "0165e170-69ce-4df0-e7e1-0ea9b852bcf2"
      },
      "execution_count": 30,
      "outputs": [
        {
          "output_type": "stream",
          "name": "stdout",
          "text": [
            "📄 Processing: results_data/2026/Sem1/sem1 mae.pdf\n",
            "📄 Processing: results_data/2026/Sem1/sem1 cseai.pdf\n",
            "📄 Processing: results_data/2026/Sem1/sem1 aiml.pdf\n",
            "📄 Processing: results_data/2026/Sem1/sem 1 it.pdf\n",
            "📄 Processing: results_data/2026/Sem1/sem1 eceai.pdf\n",
            "📄 Processing: results_data/2026/Sem1/sem1 cse.pdf\n",
            "📄 Processing: results_data/2026/Sem1/sem1 ece.pdf\n",
            "✅ Saved Excel: all_sem_outputs/sem1_all_branches.xlsx\n",
            "📄 Processing: results_data/2026/sem2/sem2 cse.pdf\n",
            "📄 Processing: results_data/2026/sem2/sem2 ece.pdf\n",
            "📄 Processing: results_data/2026/sem2/sem2 aiml .pdf\n",
            "📄 Processing: results_data/2026/sem2/sem2 It .pdf\n",
            "📄 Processing: results_data/2026/sem2/sem2 eceai.pdf\n",
            "📄 Processing: results_data/2026/sem2/sem2 cse-ai.pdf\n",
            "✅ Saved Excel: all_sem_outputs/sem2_all_branches.xlsx\n",
            "📄 Processing: results_data/2026/sem3/sem3 it le.pdf\n",
            "📄 Processing: results_data/2026/sem3/sem3 ece.pdf\n",
            "📄 Processing: results_data/2026/sem3/sem3 cseai.pdf\n",
            "📄 Processing: results_data/2026/sem3/sem3 mae le.pdf\n",
            "📄 Processing: results_data/2026/sem3/sem3 mae.pdf\n",
            "📄 Processing: results_data/2026/sem3/sem3 eceai.pdf\n",
            "📄 Processing: results_data/2026/sem3/sem3 aiml.pdf\n",
            "📄 Processing: results_data/2026/sem3/sem3 eceai le.pdf\n",
            "📄 Processing: results_data/2026/sem3/sem3 cse.pdf\n",
            "📄 Processing: results_data/2026/sem3/sem3 it .pdf\n",
            "✅ Saved Excel: all_sem_outputs/sem3_all_branches.xlsx\n",
            "📄 Processing: results_data/2026/sem4/sem4 aiml.pdf\n",
            "✅ Saved Excel: all_sem_outputs/sem4_all_branches.xlsx\n",
            "📄 Processing: results_data/2026/sem5/sem5 eceai.pdf\n",
            "📄 Processing: results_data/2026/sem5/sem5 cseai .pdf\n",
            "📄 Processing: results_data/2026/sem5/sem5 mae.pdf\n",
            "📄 Processing: results_data/2026/sem5/sem5 mae le.pdf\n",
            "📄 Processing: results_data/2026/sem5/sem5 it le.pdf\n",
            "📄 Processing: results_data/2026/sem5/sem5 ece.pdf\n",
            "📄 Processing: results_data/2026/sem5/sem5 cse.pdf\n",
            "📄 Processing: results_data/2026/sem5/sem5 aiml.pdf\n",
            "📄 Processing: results_data/2026/sem5/sem5 it.pdf\n",
            "📄 Processing: results_data/2026/sem5/sem5 eceai le.pdf\n",
            "✅ Saved Excel: all_sem_outputs/sem5_all_branches.xlsx\n",
            "📄 Processing: results_data/2026/sem6/sem6 aiml.pdf\n",
            "📄 Processing: results_data/2026/sem6/sem6 it.pdf\n",
            "📄 Processing: results_data/2026/sem6/sem6 mae le.pdf\n",
            "📄 Processing: results_data/2026/sem6/sem6 cse.pdf\n",
            "📄 Processing: results_data/2026/sem6/sem6 eceai.pdf\n",
            "📄 Processing: results_data/2026/sem6/sem6 it le.pdf\n",
            "📄 Processing: results_data/2026/sem6/sem6 ece.pdf\n",
            "📄 Processing: results_data/2026/sem6/sem6 eceai le.pdf\n",
            "📄 Processing: results_data/2026/sem6/sem6 mae.pdf\n",
            "📄 Processing: results_data/2026/sem6/sem6 cse-ai .pdf\n",
            "✅ Saved Excel: all_sem_outputs/sem6_all_branches.xlsx\n",
            "✅ Saved Excel: all_sem_outputs/sem7_all_branches.xlsx\n",
            "✅ Saved Excel: all_sem_outputs/sem8_all_branches.xlsx\n"
          ]
        }
      ]
    },
    {
      "cell_type": "code",
      "source": [
        "import matplotlib.pyplot as plt\n",
        "import matplotlib.table as tbl\n",
        "\n",
        "def save_sem_svg(df, sem_key):\n",
        "    fig, ax = plt.subplots(figsize=(16, min(0.5 + 0.4 * len(df), 50)))\n",
        "    ax.axis('off')\n",
        "    table = tbl.table(ax, cellText=df.values, colLabels=df.columns, loc='center', cellLoc='left')\n",
        "    table.auto_set_font_size(False)\n",
        "    table.set_fontsize(10)\n",
        "    for key, cell in table.get_celld().items():\n",
        "        cell.set_linewidth(0.5)\n",
        "        cell.set_height(0.04)\n",
        "    svg_path = os.path.join(output_root, f\"sem{sem_key}_all_branches.svg\")\n",
        "    plt.savefig(svg_path, format=\"svg\", bbox_inches=\"tight\")\n",
        "    plt.close()\n",
        "    print(f\"🖼️ Saved SVG: {svg_path}\")\n",
        "\n",
        "# Render SVGs for each semester\n",
        "for f in os.listdir(output_root):\n",
        "    if f.endswith(\".xlsx\") and \"all_branches\" in f:\n",
        "        sem_key = f.replace(\"sem\", \"\").split(\"_\")[0]\n",
        "        df = pd.read_excel(os.path.join(output_root, f))\n",
        "        if not df.empty:\n",
        "            save_sem_svg(df, sem_key)\n"
      ],
      "metadata": {
        "colab": {
          "base_uri": "https://localhost:8080/"
        },
        "id": "G-jL1-cajjMz",
        "outputId": "a39b8b0c-3b85-4ab2-deb2-2c7fd9c07ecd"
      },
      "execution_count": 31,
      "outputs": [
        {
          "output_type": "stream",
          "name": "stdout",
          "text": [
            "🖼️ Saved SVG: all_sem_outputs/sem3_all_branches.svg\n",
            "🖼️ Saved SVG: all_sem_outputs/sem1_all_branches.svg\n",
            "🖼️ Saved SVG: all_sem_outputs/sem5_all_branches.svg\n",
            "🖼️ Saved SVG: all_sem_outputs/sem6_all_branches.svg\n",
            "🖼️ Saved SVG: all_sem_outputs/sem4_all_branches.svg\n",
            "🖼️ Saved SVG: all_sem_outputs/sem2_all_branches.svg\n"
          ]
        }
      ]
    },
    {
      "cell_type": "code",
      "source": [
        "# Add CGPA calculation\n",
        "for roll, info in all_data.items():\n",
        "    gpas = [g for k, g in sorted(info[\"semGPA\"].items(), key=lambda x: int(x[0]))]\n",
        "    info[\"semGPA\"] = [info[\"semGPA\"].get(str(i), None) for i in range(1, 9)]\n",
        "    valid = [g for g in info[\"semGPA\"] if g is not None]\n",
        "    info[\"cgpa\"] = round(sum(valid)/len(valid), 2) if valid else None\n",
        "\n",
        "json_path = os.path.join(output_root, \"all_semesters_cgpa.json\")\n",
        "with open(json_path, \"w\") as f:\n",
        "    json.dump(all_data, f, indent=2)\n",
        "print(f\"\\n📦 Final JSON saved: {json_path}\")\n"
      ],
      "metadata": {
        "colab": {
          "base_uri": "https://localhost:8080/"
        },
        "id": "QiIdYtFYlEyt",
        "outputId": "43547ae3-f51a-4543-da35-ff9fa64f3a5d"
      },
      "execution_count": 32,
      "outputs": [
        {
          "output_type": "stream",
          "name": "stdout",
          "text": [
            "\n",
            "📦 Final JSON saved: all_sem_outputs/all_semesters_cgpa.json\n"
          ]
        }
      ]
    },
    {
      "cell_type": "code",
      "source": [],
      "metadata": {
        "id": "c3Up-Wb_lzng"
      },
      "execution_count": null,
      "outputs": []
    }
  ]
}